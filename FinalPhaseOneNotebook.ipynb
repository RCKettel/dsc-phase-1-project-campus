{
 "cells": [
  {
   "cell_type": "markdown",
   "metadata": {},
   "source": [
    "# Microsoft Market Analysis Phase one Project"
   ]
  },
  {
   "cell_type": "markdown",
   "metadata": {},
   "source": [
    "## Overview"
   ]
  },
  {
   "cell_type": "markdown",
   "metadata": {},
   "source": [
    "This project aims to describe to Microsoft what specific information is necessary to make a informed decision regarding the future direction of their movie studio.  Exploratory data analysis shows a correlation between the ratings of certain movie genres and the box office earnings.  Microsoft can use this information to choose which specific genres to target for their early marketing descisions. "
   ]
  },
  {
   "cell_type": "markdown",
   "metadata": {},
   "source": [
    "## Business Problem"
   ]
  },
  {
   "cell_type": "markdown",
   "metadata": {},
   "source": [
    "Microsoft is interested in creating their own movie studio and entering the movie market.  They are interested in knowing based on market trends of the last ten years which movies make the most at the box office and get the highest ratings.  This information will help them make an informed decision for their future marketing plans."
   ]
  },
  {
   "cell_type": "markdown",
   "metadata": {},
   "source": [
    "## Data Understanding"
   ]
  },
  {
   "cell_type": "markdown",
   "metadata": {},
   "source": [
    "IMDb has a large repository of movie data tha includes information on genres, movie titles, and ratings. Included in these databases is a set of data from Box Office Mojo, a subsidiary of IMDb, that contains the foreign and domestic earnings by title and the specific movie's release year.  All of this data is data is available online and is updated daily."
   ]
  },
  {
   "cell_type": "code",
   "execution_count": 23,
   "metadata": {},
   "outputs": [],
   "source": [
    "import matplotlib.pyplot as plt\n",
    "import pandas as pd\n",
    "import numpy as np"
   ]
  },
  {
   "cell_type": "code",
   "execution_count": 68,
   "metadata": {},
   "outputs": [],
   "source": [
    "# Set all of the datafiles to a variable for easier use when making merges and running necessary code\n",
    "imdbTitleBasicsdf = pd.read_csv('data/imdbTitleBasics.csv')\n",
    "imdbTitleRatingsdf = pd.read_csv('data/imdbTitleRatings.csv')\n",
    "bomMovieGrossdf = pd.read_csv('data/bomMovieGross.csv')"
   ]
  },
  {
   "cell_type": "code",
   "execution_count": 65,
   "metadata": {},
   "outputs": [
    {
     "data": {
      "text/plain": [
       "<bound method DataFrame.info of         Unnamed: 0     tconst                                primary_title  \\\n",
       "0                0  tt0063540                                    Sunghursh   \n",
       "1                1  tt0066787              One Day Before the Rainy Season   \n",
       "2                2  tt0069049                   The Other Side of the Wind   \n",
       "3                3  tt0069204                              Sabse Bada Sukh   \n",
       "4                4  tt0100275                     The Wandering Soap Opera   \n",
       "...            ...        ...                                          ...   \n",
       "146139      146139  tt9916538                          Kuambil Lagi Hatiku   \n",
       "146140      146140  tt9916622  Rodolpho Teóphilo - O Legado de um Pioneiro   \n",
       "146141      146141  tt9916706                              Dankyavar Danka   \n",
       "146142      146142  tt9916730                                       6 Gunn   \n",
       "146143      146143  tt9916754               Chico Albuquerque - Revelações   \n",
       "\n",
       "                                     original_title  start_year  \\\n",
       "0                                         Sunghursh        2013   \n",
       "1                                   Ashad Ka Ek Din        2019   \n",
       "2                        The Other Side of the Wind        2018   \n",
       "3                                   Sabse Bada Sukh        2018   \n",
       "4                             La Telenovela Errante        2017   \n",
       "...                                             ...         ...   \n",
       "146139                          Kuambil Lagi Hatiku        2019   \n",
       "146140  Rodolpho Teóphilo - O Legado de um Pioneiro        2015   \n",
       "146141                              Dankyavar Danka        2013   \n",
       "146142                                       6 Gunn        2017   \n",
       "146143               Chico Albuquerque - Revelações        2013   \n",
       "\n",
       "        runtime_minutes                genres  \n",
       "0                 175.0    Action,Crime,Drama  \n",
       "1                 114.0       Biography,Drama  \n",
       "2                 122.0                 Drama  \n",
       "3                   NaN          Comedy,Drama  \n",
       "4                  80.0  Comedy,Drama,Fantasy  \n",
       "...                 ...                   ...  \n",
       "146139            123.0                 Drama  \n",
       "146140              NaN           Documentary  \n",
       "146141              NaN                Comedy  \n",
       "146142            116.0                   NaN  \n",
       "146143              NaN           Documentary  \n",
       "\n",
       "[146144 rows x 7 columns]>"
      ]
     },
     "execution_count": 65,
     "metadata": {},
     "output_type": "execute_result"
    }
   ],
   "source": [
    "imdbTitleBasicsdf.info"
   ]
  },
  {
   "cell_type": "code",
   "execution_count": 66,
   "metadata": {
    "scrolled": true
   },
   "outputs": [
    {
     "data": {
      "text/plain": [
       "<bound method DataFrame.info of        Unnamed: 0      tconst  averagerating  numvotes\n",
       "0               0  tt10356526            8.3        31\n",
       "1               1  tt10384606            8.9       559\n",
       "2               2   tt1042974            6.4        20\n",
       "3               3   tt1043726            4.2     50352\n",
       "4               4   tt1060240            6.5        21\n",
       "...           ...         ...            ...       ...\n",
       "73851       73851   tt9805820            8.1        25\n",
       "73852       73852   tt9844256            7.5        24\n",
       "73853       73853   tt9851050            4.7        14\n",
       "73854       73854   tt9886934            7.0         5\n",
       "73855       73855   tt9894098            6.3       128\n",
       "\n",
       "[73856 rows x 4 columns]>"
      ]
     },
     "execution_count": 66,
     "metadata": {},
     "output_type": "execute_result"
    }
   ],
   "source": [
    "imdbTitleRatingsdf.info"
   ]
  },
  {
   "cell_type": "code",
   "execution_count": 69,
   "metadata": {},
   "outputs": [
    {
     "data": {
      "text/plain": [
       "<bound method DataFrame.info of       Unnamed: 0                                        title      studio  \\\n",
       "0              0                                  Toy Story 3          BV   \n",
       "1              1                   Alice in Wonderland (2010)          BV   \n",
       "2              2  Harry Potter and the Deathly Hallows Part 1          WB   \n",
       "3              3                                    Inception          WB   \n",
       "4              4                          Shrek Forever After        P/DW   \n",
       "...          ...                                          ...         ...   \n",
       "3382        3382                                    The Quake       Magn.   \n",
       "3383        3383                  Edward II (2018 re-release)          FM   \n",
       "3384        3384                                     El Pacto        Sony   \n",
       "3385        3385                                     The Swan  Synergetic   \n",
       "3386        3386                            An Actor Prepares       Grav.   \n",
       "\n",
       "      domestic_gross foreign_gross  year  \n",
       "0        415000000.0     652000000  2010  \n",
       "1        334200000.0     691300000  2010  \n",
       "2        296000000.0     664300000  2010  \n",
       "3        292600000.0     535700000  2010  \n",
       "4        238700000.0     513900000  2010  \n",
       "...              ...           ...   ...  \n",
       "3382          6200.0           NaN  2018  \n",
       "3383          4800.0           NaN  2018  \n",
       "3384          2500.0           NaN  2018  \n",
       "3385          2400.0           NaN  2018  \n",
       "3386          1700.0           NaN  2018  \n",
       "\n",
       "[3387 rows x 6 columns]>"
      ]
     },
     "execution_count": 69,
     "metadata": {},
     "output_type": "execute_result"
    }
   ],
   "source": [
    "bomMovieGrossdf.info"
   ]
  },
  {
   "cell_type": "markdown",
   "metadata": {},
   "source": [
    "## IMDb Data"
   ]
  },
  {
   "cell_type": "markdown",
   "metadata": {},
   "source": [
    "The IMDb Title Basics data contains movie data for over 146,00 films released within the last ten years including genre and movie title."
   ]
  },
  {
   "cell_type": "code",
   "execution_count": 70,
   "metadata": {},
   "outputs": [
    {
     "data": {
      "text/html": [
       "<div>\n",
       "<style scoped>\n",
       "    .dataframe tbody tr th:only-of-type {\n",
       "        vertical-align: middle;\n",
       "    }\n",
       "\n",
       "    .dataframe tbody tr th {\n",
       "        vertical-align: top;\n",
       "    }\n",
       "\n",
       "    .dataframe thead th {\n",
       "        text-align: right;\n",
       "    }\n",
       "</style>\n",
       "<table border=\"1\" class=\"dataframe\">\n",
       "  <thead>\n",
       "    <tr style=\"text-align: right;\">\n",
       "      <th></th>\n",
       "      <th>Unnamed: 0</th>\n",
       "      <th>tconst</th>\n",
       "      <th>primary_title</th>\n",
       "      <th>original_title</th>\n",
       "      <th>start_year</th>\n",
       "      <th>runtime_minutes</th>\n",
       "      <th>genres</th>\n",
       "    </tr>\n",
       "  </thead>\n",
       "  <tbody>\n",
       "    <tr>\n",
       "      <th>0</th>\n",
       "      <td>0</td>\n",
       "      <td>tt0063540</td>\n",
       "      <td>Sunghursh</td>\n",
       "      <td>Sunghursh</td>\n",
       "      <td>2013</td>\n",
       "      <td>175.0</td>\n",
       "      <td>Action,Crime,Drama</td>\n",
       "    </tr>\n",
       "    <tr>\n",
       "      <th>1</th>\n",
       "      <td>1</td>\n",
       "      <td>tt0066787</td>\n",
       "      <td>One Day Before the Rainy Season</td>\n",
       "      <td>Ashad Ka Ek Din</td>\n",
       "      <td>2019</td>\n",
       "      <td>114.0</td>\n",
       "      <td>Biography,Drama</td>\n",
       "    </tr>\n",
       "    <tr>\n",
       "      <th>2</th>\n",
       "      <td>2</td>\n",
       "      <td>tt0069049</td>\n",
       "      <td>The Other Side of the Wind</td>\n",
       "      <td>The Other Side of the Wind</td>\n",
       "      <td>2018</td>\n",
       "      <td>122.0</td>\n",
       "      <td>Drama</td>\n",
       "    </tr>\n",
       "    <tr>\n",
       "      <th>3</th>\n",
       "      <td>3</td>\n",
       "      <td>tt0069204</td>\n",
       "      <td>Sabse Bada Sukh</td>\n",
       "      <td>Sabse Bada Sukh</td>\n",
       "      <td>2018</td>\n",
       "      <td>NaN</td>\n",
       "      <td>Comedy,Drama</td>\n",
       "    </tr>\n",
       "    <tr>\n",
       "      <th>4</th>\n",
       "      <td>4</td>\n",
       "      <td>tt0100275</td>\n",
       "      <td>The Wandering Soap Opera</td>\n",
       "      <td>La Telenovela Errante</td>\n",
       "      <td>2017</td>\n",
       "      <td>80.0</td>\n",
       "      <td>Comedy,Drama,Fantasy</td>\n",
       "    </tr>\n",
       "    <tr>\n",
       "      <th>...</th>\n",
       "      <td>...</td>\n",
       "      <td>...</td>\n",
       "      <td>...</td>\n",
       "      <td>...</td>\n",
       "      <td>...</td>\n",
       "      <td>...</td>\n",
       "      <td>...</td>\n",
       "    </tr>\n",
       "    <tr>\n",
       "      <th>146139</th>\n",
       "      <td>146139</td>\n",
       "      <td>tt9916538</td>\n",
       "      <td>Kuambil Lagi Hatiku</td>\n",
       "      <td>Kuambil Lagi Hatiku</td>\n",
       "      <td>2019</td>\n",
       "      <td>123.0</td>\n",
       "      <td>Drama</td>\n",
       "    </tr>\n",
       "    <tr>\n",
       "      <th>146140</th>\n",
       "      <td>146140</td>\n",
       "      <td>tt9916622</td>\n",
       "      <td>Rodolpho Teóphilo - O Legado de um Pioneiro</td>\n",
       "      <td>Rodolpho Teóphilo - O Legado de um Pioneiro</td>\n",
       "      <td>2015</td>\n",
       "      <td>NaN</td>\n",
       "      <td>Documentary</td>\n",
       "    </tr>\n",
       "    <tr>\n",
       "      <th>146141</th>\n",
       "      <td>146141</td>\n",
       "      <td>tt9916706</td>\n",
       "      <td>Dankyavar Danka</td>\n",
       "      <td>Dankyavar Danka</td>\n",
       "      <td>2013</td>\n",
       "      <td>NaN</td>\n",
       "      <td>Comedy</td>\n",
       "    </tr>\n",
       "    <tr>\n",
       "      <th>146142</th>\n",
       "      <td>146142</td>\n",
       "      <td>tt9916730</td>\n",
       "      <td>6 Gunn</td>\n",
       "      <td>6 Gunn</td>\n",
       "      <td>2017</td>\n",
       "      <td>116.0</td>\n",
       "      <td>NaN</td>\n",
       "    </tr>\n",
       "    <tr>\n",
       "      <th>146143</th>\n",
       "      <td>146143</td>\n",
       "      <td>tt9916754</td>\n",
       "      <td>Chico Albuquerque - Revelações</td>\n",
       "      <td>Chico Albuquerque - Revelações</td>\n",
       "      <td>2013</td>\n",
       "      <td>NaN</td>\n",
       "      <td>Documentary</td>\n",
       "    </tr>\n",
       "  </tbody>\n",
       "</table>\n",
       "<p>146144 rows × 7 columns</p>\n",
       "</div>"
      ],
      "text/plain": [
       "        Unnamed: 0     tconst                                primary_title  \\\n",
       "0                0  tt0063540                                    Sunghursh   \n",
       "1                1  tt0066787              One Day Before the Rainy Season   \n",
       "2                2  tt0069049                   The Other Side of the Wind   \n",
       "3                3  tt0069204                              Sabse Bada Sukh   \n",
       "4                4  tt0100275                     The Wandering Soap Opera   \n",
       "...            ...        ...                                          ...   \n",
       "146139      146139  tt9916538                          Kuambil Lagi Hatiku   \n",
       "146140      146140  tt9916622  Rodolpho Teóphilo - O Legado de um Pioneiro   \n",
       "146141      146141  tt9916706                              Dankyavar Danka   \n",
       "146142      146142  tt9916730                                       6 Gunn   \n",
       "146143      146143  tt9916754               Chico Albuquerque - Revelações   \n",
       "\n",
       "                                     original_title  start_year  \\\n",
       "0                                         Sunghursh        2013   \n",
       "1                                   Ashad Ka Ek Din        2019   \n",
       "2                        The Other Side of the Wind        2018   \n",
       "3                                   Sabse Bada Sukh        2018   \n",
       "4                             La Telenovela Errante        2017   \n",
       "...                                             ...         ...   \n",
       "146139                          Kuambil Lagi Hatiku        2019   \n",
       "146140  Rodolpho Teóphilo - O Legado de um Pioneiro        2015   \n",
       "146141                              Dankyavar Danka        2013   \n",
       "146142                                       6 Gunn        2017   \n",
       "146143               Chico Albuquerque - Revelações        2013   \n",
       "\n",
       "        runtime_minutes                genres  \n",
       "0                 175.0    Action,Crime,Drama  \n",
       "1                 114.0       Biography,Drama  \n",
       "2                 122.0                 Drama  \n",
       "3                   NaN          Comedy,Drama  \n",
       "4                  80.0  Comedy,Drama,Fantasy  \n",
       "...                 ...                   ...  \n",
       "146139            123.0                 Drama  \n",
       "146140              NaN           Documentary  \n",
       "146141              NaN                Comedy  \n",
       "146142            116.0                   NaN  \n",
       "146143              NaN           Documentary  \n",
       "\n",
       "[146144 rows x 7 columns]"
      ]
     },
     "execution_count": 70,
     "metadata": {},
     "output_type": "execute_result"
    }
   ],
   "source": [
    "imdbTitleBasicsdf"
   ]
  },
  {
   "cell_type": "markdown",
   "metadata": {},
   "source": [
    "IMDb Title Ratings contains ratings by movie and the number of votes for nearly 74,000 films"
   ]
  },
  {
   "cell_type": "code",
   "execution_count": 71,
   "metadata": {},
   "outputs": [
    {
     "data": {
      "text/html": [
       "<div>\n",
       "<style scoped>\n",
       "    .dataframe tbody tr th:only-of-type {\n",
       "        vertical-align: middle;\n",
       "    }\n",
       "\n",
       "    .dataframe tbody tr th {\n",
       "        vertical-align: top;\n",
       "    }\n",
       "\n",
       "    .dataframe thead th {\n",
       "        text-align: right;\n",
       "    }\n",
       "</style>\n",
       "<table border=\"1\" class=\"dataframe\">\n",
       "  <thead>\n",
       "    <tr style=\"text-align: right;\">\n",
       "      <th></th>\n",
       "      <th>Unnamed: 0</th>\n",
       "      <th>tconst</th>\n",
       "      <th>averagerating</th>\n",
       "      <th>numvotes</th>\n",
       "    </tr>\n",
       "  </thead>\n",
       "  <tbody>\n",
       "    <tr>\n",
       "      <th>0</th>\n",
       "      <td>0</td>\n",
       "      <td>tt10356526</td>\n",
       "      <td>8.3</td>\n",
       "      <td>31</td>\n",
       "    </tr>\n",
       "    <tr>\n",
       "      <th>1</th>\n",
       "      <td>1</td>\n",
       "      <td>tt10384606</td>\n",
       "      <td>8.9</td>\n",
       "      <td>559</td>\n",
       "    </tr>\n",
       "    <tr>\n",
       "      <th>2</th>\n",
       "      <td>2</td>\n",
       "      <td>tt1042974</td>\n",
       "      <td>6.4</td>\n",
       "      <td>20</td>\n",
       "    </tr>\n",
       "    <tr>\n",
       "      <th>3</th>\n",
       "      <td>3</td>\n",
       "      <td>tt1043726</td>\n",
       "      <td>4.2</td>\n",
       "      <td>50352</td>\n",
       "    </tr>\n",
       "    <tr>\n",
       "      <th>4</th>\n",
       "      <td>4</td>\n",
       "      <td>tt1060240</td>\n",
       "      <td>6.5</td>\n",
       "      <td>21</td>\n",
       "    </tr>\n",
       "    <tr>\n",
       "      <th>...</th>\n",
       "      <td>...</td>\n",
       "      <td>...</td>\n",
       "      <td>...</td>\n",
       "      <td>...</td>\n",
       "    </tr>\n",
       "    <tr>\n",
       "      <th>73851</th>\n",
       "      <td>73851</td>\n",
       "      <td>tt9805820</td>\n",
       "      <td>8.1</td>\n",
       "      <td>25</td>\n",
       "    </tr>\n",
       "    <tr>\n",
       "      <th>73852</th>\n",
       "      <td>73852</td>\n",
       "      <td>tt9844256</td>\n",
       "      <td>7.5</td>\n",
       "      <td>24</td>\n",
       "    </tr>\n",
       "    <tr>\n",
       "      <th>73853</th>\n",
       "      <td>73853</td>\n",
       "      <td>tt9851050</td>\n",
       "      <td>4.7</td>\n",
       "      <td>14</td>\n",
       "    </tr>\n",
       "    <tr>\n",
       "      <th>73854</th>\n",
       "      <td>73854</td>\n",
       "      <td>tt9886934</td>\n",
       "      <td>7.0</td>\n",
       "      <td>5</td>\n",
       "    </tr>\n",
       "    <tr>\n",
       "      <th>73855</th>\n",
       "      <td>73855</td>\n",
       "      <td>tt9894098</td>\n",
       "      <td>6.3</td>\n",
       "      <td>128</td>\n",
       "    </tr>\n",
       "  </tbody>\n",
       "</table>\n",
       "<p>73856 rows × 4 columns</p>\n",
       "</div>"
      ],
      "text/plain": [
       "       Unnamed: 0      tconst  averagerating  numvotes\n",
       "0               0  tt10356526            8.3        31\n",
       "1               1  tt10384606            8.9       559\n",
       "2               2   tt1042974            6.4        20\n",
       "3               3   tt1043726            4.2     50352\n",
       "4               4   tt1060240            6.5        21\n",
       "...           ...         ...            ...       ...\n",
       "73851       73851   tt9805820            8.1        25\n",
       "73852       73852   tt9844256            7.5        24\n",
       "73853       73853   tt9851050            4.7        14\n",
       "73854       73854   tt9886934            7.0         5\n",
       "73855       73855   tt9894098            6.3       128\n",
       "\n",
       "[73856 rows x 4 columns]"
      ]
     },
     "execution_count": 71,
     "metadata": {},
     "output_type": "execute_result"
    }
   ],
   "source": [
    "imdbTitleRatingsdf"
   ]
  },
  {
   "cell_type": "markdown",
   "metadata": {},
   "source": [
    "bomMovieGross contains the title, domestic gross earnings, and foreign Gross earnings of nearly 3400 movies as well as their release year."
   ]
  },
  {
   "cell_type": "code",
   "execution_count": 72,
   "metadata": {
    "scrolled": true
   },
   "outputs": [
    {
     "data": {
      "text/html": [
       "<div>\n",
       "<style scoped>\n",
       "    .dataframe tbody tr th:only-of-type {\n",
       "        vertical-align: middle;\n",
       "    }\n",
       "\n",
       "    .dataframe tbody tr th {\n",
       "        vertical-align: top;\n",
       "    }\n",
       "\n",
       "    .dataframe thead th {\n",
       "        text-align: right;\n",
       "    }\n",
       "</style>\n",
       "<table border=\"1\" class=\"dataframe\">\n",
       "  <thead>\n",
       "    <tr style=\"text-align: right;\">\n",
       "      <th></th>\n",
       "      <th>Unnamed: 0</th>\n",
       "      <th>title</th>\n",
       "      <th>studio</th>\n",
       "      <th>domestic_gross</th>\n",
       "      <th>foreign_gross</th>\n",
       "      <th>year</th>\n",
       "    </tr>\n",
       "  </thead>\n",
       "  <tbody>\n",
       "    <tr>\n",
       "      <th>0</th>\n",
       "      <td>0</td>\n",
       "      <td>Toy Story 3</td>\n",
       "      <td>BV</td>\n",
       "      <td>415000000.0</td>\n",
       "      <td>652000000</td>\n",
       "      <td>2010</td>\n",
       "    </tr>\n",
       "    <tr>\n",
       "      <th>1</th>\n",
       "      <td>1</td>\n",
       "      <td>Alice in Wonderland (2010)</td>\n",
       "      <td>BV</td>\n",
       "      <td>334200000.0</td>\n",
       "      <td>691300000</td>\n",
       "      <td>2010</td>\n",
       "    </tr>\n",
       "    <tr>\n",
       "      <th>2</th>\n",
       "      <td>2</td>\n",
       "      <td>Harry Potter and the Deathly Hallows Part 1</td>\n",
       "      <td>WB</td>\n",
       "      <td>296000000.0</td>\n",
       "      <td>664300000</td>\n",
       "      <td>2010</td>\n",
       "    </tr>\n",
       "    <tr>\n",
       "      <th>3</th>\n",
       "      <td>3</td>\n",
       "      <td>Inception</td>\n",
       "      <td>WB</td>\n",
       "      <td>292600000.0</td>\n",
       "      <td>535700000</td>\n",
       "      <td>2010</td>\n",
       "    </tr>\n",
       "    <tr>\n",
       "      <th>4</th>\n",
       "      <td>4</td>\n",
       "      <td>Shrek Forever After</td>\n",
       "      <td>P/DW</td>\n",
       "      <td>238700000.0</td>\n",
       "      <td>513900000</td>\n",
       "      <td>2010</td>\n",
       "    </tr>\n",
       "    <tr>\n",
       "      <th>...</th>\n",
       "      <td>...</td>\n",
       "      <td>...</td>\n",
       "      <td>...</td>\n",
       "      <td>...</td>\n",
       "      <td>...</td>\n",
       "      <td>...</td>\n",
       "    </tr>\n",
       "    <tr>\n",
       "      <th>3382</th>\n",
       "      <td>3382</td>\n",
       "      <td>The Quake</td>\n",
       "      <td>Magn.</td>\n",
       "      <td>6200.0</td>\n",
       "      <td>NaN</td>\n",
       "      <td>2018</td>\n",
       "    </tr>\n",
       "    <tr>\n",
       "      <th>3383</th>\n",
       "      <td>3383</td>\n",
       "      <td>Edward II (2018 re-release)</td>\n",
       "      <td>FM</td>\n",
       "      <td>4800.0</td>\n",
       "      <td>NaN</td>\n",
       "      <td>2018</td>\n",
       "    </tr>\n",
       "    <tr>\n",
       "      <th>3384</th>\n",
       "      <td>3384</td>\n",
       "      <td>El Pacto</td>\n",
       "      <td>Sony</td>\n",
       "      <td>2500.0</td>\n",
       "      <td>NaN</td>\n",
       "      <td>2018</td>\n",
       "    </tr>\n",
       "    <tr>\n",
       "      <th>3385</th>\n",
       "      <td>3385</td>\n",
       "      <td>The Swan</td>\n",
       "      <td>Synergetic</td>\n",
       "      <td>2400.0</td>\n",
       "      <td>NaN</td>\n",
       "      <td>2018</td>\n",
       "    </tr>\n",
       "    <tr>\n",
       "      <th>3386</th>\n",
       "      <td>3386</td>\n",
       "      <td>An Actor Prepares</td>\n",
       "      <td>Grav.</td>\n",
       "      <td>1700.0</td>\n",
       "      <td>NaN</td>\n",
       "      <td>2018</td>\n",
       "    </tr>\n",
       "  </tbody>\n",
       "</table>\n",
       "<p>3387 rows × 6 columns</p>\n",
       "</div>"
      ],
      "text/plain": [
       "      Unnamed: 0                                        title      studio  \\\n",
       "0              0                                  Toy Story 3          BV   \n",
       "1              1                   Alice in Wonderland (2010)          BV   \n",
       "2              2  Harry Potter and the Deathly Hallows Part 1          WB   \n",
       "3              3                                    Inception          WB   \n",
       "4              4                          Shrek Forever After        P/DW   \n",
       "...          ...                                          ...         ...   \n",
       "3382        3382                                    The Quake       Magn.   \n",
       "3383        3383                  Edward II (2018 re-release)          FM   \n",
       "3384        3384                                     El Pacto        Sony   \n",
       "3385        3385                                     The Swan  Synergetic   \n",
       "3386        3386                            An Actor Prepares       Grav.   \n",
       "\n",
       "      domestic_gross foreign_gross  year  \n",
       "0        415000000.0     652000000  2010  \n",
       "1        334200000.0     691300000  2010  \n",
       "2        296000000.0     664300000  2010  \n",
       "3        292600000.0     535700000  2010  \n",
       "4        238700000.0     513900000  2010  \n",
       "...              ...           ...   ...  \n",
       "3382          6200.0           NaN  2018  \n",
       "3383          4800.0           NaN  2018  \n",
       "3384          2500.0           NaN  2018  \n",
       "3385          2400.0           NaN  2018  \n",
       "3386          1700.0           NaN  2018  \n",
       "\n",
       "[3387 rows x 6 columns]"
      ]
     },
     "execution_count": 72,
     "metadata": {},
     "output_type": "execute_result"
    }
   ],
   "source": [
    "bomMovieGrossdf"
   ]
  },
  {
   "cell_type": "markdown",
   "metadata": {},
   "source": [
    "# Data Prep"
   ]
  },
  {
   "cell_type": "markdown",
   "metadata": {},
   "source": [
    "## Creating Joins"
   ]
  },
  {
   "cell_type": "code",
   "execution_count": 86,
   "metadata": {},
   "outputs": [],
   "source": [
    "# I made an inner join on both IMDB tables focusing on the tconst \n",
    "imdbdatadf = pd.merge(imdbTitleBasicsdf, imdbTitleRatingsdf, on = 'tconst')\n",
    "\n",
    "# Made a join between imdbTitleRatingsdf and bomMovieGrossdf on primary_title and title\n",
    "bomimdbdf = pd.merge(imdbTitleBasicsdf, bomMovieGrossdf, left_on= 'primary_title', right_on= 'title')\n",
    "\n",
    "# Made a join between the bomimdbdf and imdbdatadf on tconst\n",
    "alldata = pd.merge(bomimdbdf, imdbTitleRatingsdf, on = 'tconst')"
   ]
  },
  {
   "cell_type": "markdown",
   "metadata": {},
   "source": [
    "## Data Cleaning"
   ]
  },
  {
   "cell_type": "code",
   "execution_count": 87,
   "metadata": {},
   "outputs": [],
   "source": [
    "# removed the Unnamed 0_x and 0_y columns as they were unnessary columns. \n",
    "imdbdatadf = imdbdatadf.drop(['Unnamed: 0_x', 'Unnamed: 0_y'], axis= 1)\n",
    "alldata = alldata.drop('Unnamed: 0', axis = 1)\n",
    "\n",
    "# removed all rows with NaNs from imdbdatadf.\n",
    "imdbdatadf.dropna(inplace = True)\n",
    "\n",
    "# removed documentaries from imdbatadf as they are not usually box office movies.\n",
    "imdbdatadf = imdbdatadf[~imdbdatadf.genres.str.contains('Documentary')]\n",
    "\n",
    "# I will only be removing NaNs from domestic_gross in this dataset \n",
    "# as most of the dataset is not necessary for my processes\n",
    "bomimdbdf.dropna(subset= ['domestic_gross'], axis = 0, inplace = True)\n",
    "\n",
    "# again dropped all NaNs from domestic_gross in this dataset\n",
    "alldata.dropna(subset = ['domestic_gross'], inplace = True)"
   ]
  },
  {
   "cell_type": "markdown",
   "metadata": {},
   "source": [
    "# Analysis"
   ]
  },
  {
   "cell_type": "markdown",
   "metadata": {},
   "source": [
    "#### Given a dataset of 49,300 movies in imdbdatadf I thought it would be prudent to identify which the most common genres are to give a better understanding of their distibution and popularity."
   ]
  },
  {
   "cell_type": "code",
   "execution_count": 61,
   "metadata": {},
   "outputs": [
    {
     "data": {
      "text/html": [
       "<div>\n",
       "<style scoped>\n",
       "    .dataframe tbody tr th:only-of-type {\n",
       "        vertical-align: middle;\n",
       "    }\n",
       "\n",
       "    .dataframe tbody tr th {\n",
       "        vertical-align: top;\n",
       "    }\n",
       "\n",
       "    .dataframe thead th {\n",
       "        text-align: right;\n",
       "    }\n",
       "</style>\n",
       "<table border=\"1\" class=\"dataframe\">\n",
       "  <thead>\n",
       "    <tr style=\"text-align: right;\">\n",
       "      <th></th>\n",
       "      <th>Number of Movies</th>\n",
       "    </tr>\n",
       "  </thead>\n",
       "  <tbody>\n",
       "    <tr>\n",
       "      <th>Drama</th>\n",
       "      <td>10189</td>\n",
       "    </tr>\n",
       "    <tr>\n",
       "      <th>Comedy</th>\n",
       "      <td>4604</td>\n",
       "    </tr>\n",
       "    <tr>\n",
       "      <th>Comedy,Drama</th>\n",
       "      <td>2451</td>\n",
       "    </tr>\n",
       "    <tr>\n",
       "      <th>Horror</th>\n",
       "      <td>2232</td>\n",
       "    </tr>\n",
       "    <tr>\n",
       "      <th>Drama,Romance</th>\n",
       "      <td>1392</td>\n",
       "    </tr>\n",
       "    <tr>\n",
       "      <th>Thriller</th>\n",
       "      <td>1288</td>\n",
       "    </tr>\n",
       "    <tr>\n",
       "      <th>Comedy,Drama,Romance</th>\n",
       "      <td>1159</td>\n",
       "    </tr>\n",
       "    <tr>\n",
       "      <th>Comedy,Romance</th>\n",
       "      <td>1128</td>\n",
       "    </tr>\n",
       "    <tr>\n",
       "      <th>Horror,Thriller</th>\n",
       "      <td>943</td>\n",
       "    </tr>\n",
       "    <tr>\n",
       "      <th>Drama,Thriller</th>\n",
       "      <td>938</td>\n",
       "    </tr>\n",
       "  </tbody>\n",
       "</table>\n",
       "</div>"
      ],
      "text/plain": [
       "                      Number of Movies\n",
       "Drama                            10189\n",
       "Comedy                            4604\n",
       "Comedy,Drama                      2451\n",
       "Horror                            2232\n",
       "Drama,Romance                     1392\n",
       "Thriller                          1288\n",
       "Comedy,Drama,Romance              1159\n",
       "Comedy,Romance                    1128\n",
       "Horror,Thriller                    943\n",
       "Drama,Thriller                     938"
      ]
     },
     "execution_count": 61,
     "metadata": {},
     "output_type": "execute_result"
    }
   ],
   "source": [
    "# Creating a descending list of top ten movie genres\n",
    "genrecounts = pd.DataFrame(imdbdatadf['genres'].value_counts().head(10))\n",
    "genrecounts.columns = ['Number of Movies']\n",
    "genrecounts"
   ]
  },
  {
   "cell_type": "code",
   "execution_count": 63,
   "metadata": {},
   "outputs": [
    {
     "data": {
      "text/html": [
       "<div>\n",
       "<style scoped>\n",
       "    .dataframe tbody tr th:only-of-type {\n",
       "        vertical-align: middle;\n",
       "    }\n",
       "\n",
       "    .dataframe tbody tr th {\n",
       "        vertical-align: top;\n",
       "    }\n",
       "\n",
       "    .dataframe thead th {\n",
       "        text-align: right;\n",
       "    }\n",
       "</style>\n",
       "<table border=\"1\" class=\"dataframe\">\n",
       "  <thead>\n",
       "    <tr style=\"text-align: right;\">\n",
       "      <th></th>\n",
       "      <th>CommonGenres</th>\n",
       "      <th>MovieNumbers</th>\n",
       "    </tr>\n",
       "  </thead>\n",
       "  <tbody>\n",
       "    <tr>\n",
       "      <th>0</th>\n",
       "      <td>Drama</td>\n",
       "      <td>10189</td>\n",
       "    </tr>\n",
       "    <tr>\n",
       "      <th>1</th>\n",
       "      <td>Comedy</td>\n",
       "      <td>4604</td>\n",
       "    </tr>\n",
       "    <tr>\n",
       "      <th>2</th>\n",
       "      <td>Comedy,Drama</td>\n",
       "      <td>2451</td>\n",
       "    </tr>\n",
       "    <tr>\n",
       "      <th>3</th>\n",
       "      <td>Horror</td>\n",
       "      <td>2232</td>\n",
       "    </tr>\n",
       "    <tr>\n",
       "      <th>4</th>\n",
       "      <td>Drama,Romance</td>\n",
       "      <td>1392</td>\n",
       "    </tr>\n",
       "    <tr>\n",
       "      <th>5</th>\n",
       "      <td>Thriller</td>\n",
       "      <td>1288</td>\n",
       "    </tr>\n",
       "    <tr>\n",
       "      <th>6</th>\n",
       "      <td>Comedy,Drama,Romance</td>\n",
       "      <td>1159</td>\n",
       "    </tr>\n",
       "    <tr>\n",
       "      <th>7</th>\n",
       "      <td>Comedy,Romance</td>\n",
       "      <td>1128</td>\n",
       "    </tr>\n",
       "    <tr>\n",
       "      <th>8</th>\n",
       "      <td>Horror,Thriller</td>\n",
       "      <td>943</td>\n",
       "    </tr>\n",
       "    <tr>\n",
       "      <th>9</th>\n",
       "      <td>Drama,Thriller</td>\n",
       "      <td>938</td>\n",
       "    </tr>\n",
       "  </tbody>\n",
       "</table>\n",
       "</div>"
      ],
      "text/plain": [
       "           CommonGenres  MovieNumbers\n",
       "0                 Drama         10189\n",
       "1                Comedy          4604\n",
       "2          Comedy,Drama          2451\n",
       "3                Horror          2232\n",
       "4         Drama,Romance          1392\n",
       "5              Thriller          1288\n",
       "6  Comedy,Drama,Romance          1159\n",
       "7        Comedy,Romance          1128\n",
       "8       Horror,Thriller           943\n",
       "9        Drama,Thriller           938"
      ]
     },
     "execution_count": 63,
     "metadata": {},
     "output_type": "execute_result"
    }
   ],
   "source": [
    "# Splitting the list.\n",
    "data = {'CommonGenres': topten,\n",
    "        'MovieNumbers': [10189, 4604, 2451, 2232, 1392, 1288, 1159, 1128, 943, 938]}\n",
    "mstcomgenrdf = pd.DataFrame(data, columns = ['CommonGenres', 'MovieNumbers'])\n",
    "\n",
    "mstcomgenrdf"
   ]
  },
  {
   "cell_type": "code",
   "execution_count": 73,
   "metadata": {
    "scrolled": false
   },
   "outputs": [
    {
     "data": {
      "text/html": [
       "<div>\n",
       "<style scoped>\n",
       "    .dataframe tbody tr th:only-of-type {\n",
       "        vertical-align: middle;\n",
       "    }\n",
       "\n",
       "    .dataframe tbody tr th {\n",
       "        vertical-align: top;\n",
       "    }\n",
       "\n",
       "    .dataframe thead th {\n",
       "        text-align: right;\n",
       "    }\n",
       "</style>\n",
       "<table border=\"1\" class=\"dataframe\">\n",
       "  <thead>\n",
       "    <tr style=\"text-align: right;\">\n",
       "      <th></th>\n",
       "      <th>CommonGenres</th>\n",
       "      <th>MovieNumbers</th>\n",
       "    </tr>\n",
       "  </thead>\n",
       "  <tbody>\n",
       "    <tr>\n",
       "      <th>9</th>\n",
       "      <td>Drama,Thriller</td>\n",
       "      <td>938</td>\n",
       "    </tr>\n",
       "    <tr>\n",
       "      <th>8</th>\n",
       "      <td>Horror,Thriller</td>\n",
       "      <td>943</td>\n",
       "    </tr>\n",
       "    <tr>\n",
       "      <th>7</th>\n",
       "      <td>Comedy,Romance</td>\n",
       "      <td>1128</td>\n",
       "    </tr>\n",
       "    <tr>\n",
       "      <th>6</th>\n",
       "      <td>Comedy,Drama,Romance</td>\n",
       "      <td>1159</td>\n",
       "    </tr>\n",
       "    <tr>\n",
       "      <th>5</th>\n",
       "      <td>Thriller</td>\n",
       "      <td>1288</td>\n",
       "    </tr>\n",
       "    <tr>\n",
       "      <th>4</th>\n",
       "      <td>Drama,Romance</td>\n",
       "      <td>1392</td>\n",
       "    </tr>\n",
       "    <tr>\n",
       "      <th>3</th>\n",
       "      <td>Horror</td>\n",
       "      <td>2232</td>\n",
       "    </tr>\n",
       "    <tr>\n",
       "      <th>2</th>\n",
       "      <td>Comedy,Drama</td>\n",
       "      <td>2451</td>\n",
       "    </tr>\n",
       "    <tr>\n",
       "      <th>1</th>\n",
       "      <td>Comedy</td>\n",
       "      <td>4604</td>\n",
       "    </tr>\n",
       "    <tr>\n",
       "      <th>0</th>\n",
       "      <td>Drama</td>\n",
       "      <td>10189</td>\n",
       "    </tr>\n",
       "  </tbody>\n",
       "</table>\n",
       "</div>"
      ],
      "text/plain": [
       "           CommonGenres  MovieNumbers\n",
       "9        Drama,Thriller           938\n",
       "8       Horror,Thriller           943\n",
       "7        Comedy,Romance          1128\n",
       "6  Comedy,Drama,Romance          1159\n",
       "5              Thriller          1288\n",
       "4         Drama,Romance          1392\n",
       "3                Horror          2232\n",
       "2          Comedy,Drama          2451\n",
       "1                Comedy          4604\n",
       "0                 Drama         10189"
      ]
     },
     "execution_count": 73,
     "metadata": {},
     "output_type": "execute_result"
    }
   ],
   "source": [
    "# Sorting data into ascending order\n",
    "mstcomgenrdf = mstcomgenrdf.sort_values('MovieNumbers')\n",
    "\n",
    "mstcomgenrdf"
   ]
  },
  {
   "cell_type": "code",
   "execution_count": 74,
   "metadata": {},
   "outputs": [
    {
     "data": {
      "image/png": "[encoded data removed]",
      "text/plain": [
       "<Figure size 432x288 with 1 Axes>"
      ]
     },
     "metadata": {
      "needs_background": "light"
     },
     "output_type": "display_data"
    }
   ],
   "source": [
    "# Used new ascending Dataframe to create a bar graph and saved the plot.\n",
    "x = mstcomgenrdf['CommonGenres']\n",
    "y = mstcomgenrdf['MovieNumbers']\n",
    "\n",
    "fig, ax = plt.subplots()\n",
    "ax.bar(x,y);\n",
    "ax.set_xlabel('Most Common Genres')\n",
    "ax.set_ylabel('Number of Movies')\n",
    "ax.set_title('Genres')\n",
    "plt.autoscale()\n",
    "for ax in fig.axes:\n",
    "    ax.tick_params(labelrotation=90)\n",
    "\n",
    "plt.savefig('Images/GenresByMovieCount.png')"
   ]
  },
  {
   "cell_type": "markdown",
   "metadata": {},
   "source": [
    "#### Given these are the highest average rating and Microsoft is looking for the genres that would be most popular at the box office, which of these tropes have the highest mean viewer rating?"
   ]
  },
  {
   "cell_type": "code",
   "execution_count": 78,
   "metadata": {},
   "outputs": [
    {
     "data": {
      "image/png": "[encoded data removed]",
      "text/plain": [
       "<Figure size 360x432 with 1 Axes>"
      ]
     },
     "metadata": {
      "needs_background": "light"
     },
     "output_type": "display_data"
    }
   ],
   "source": [
    "# Created a plot comparing the major genres and the mean average rating and saved it\n",
    "x = ['Drama', 'Comedy', 'Comedy,Drama', 'Horror', 'Drama,Romance', 'Thriller', 'Comedy,Drama,Romance', 'Comedy,Romance', 'Horror,Thriller', 'Drama,Thriller']\n",
    "y = []\n",
    "for genre in x:\n",
    "    y.append(imdbdatadf[imdbdatadf['genres']==(genre)]['averagerating'].mean())  \n",
    "\n",
    "fig, ax = plt.subplots(figsize = (5,6))\n",
    "plt.xlabel('Top Ten Genres')\n",
    "plt.ylabel('Avg. Overall Rating')\n",
    "plt.title('Mean Rating by Genre')\n",
    "plt.xticks(rotation= 90)\n",
    "ax.bar(x,y);\n",
    "plt.savefig('Images/MeanRatingGenre.png')"
   ]
  },
  {
   "cell_type": "markdown",
   "metadata": {},
   "source": [
    "####  Which of these types of film would earn the most money at the box office and therefore be the best earner for Microsoft?"
   ]
  },
  {
   "cell_type": "code",
   "execution_count": 84,
   "metadata": {},
   "outputs": [
    {
     "data": {
      "image/png": "[encoded data removed]",
      "text/plain": [
       "<Figure size 360x432 with 1 Axes>"
      ]
     },
     "metadata": {
      "needs_background": "light"
     },
     "output_type": "display_data"
    }
   ],
   "source": [
    "x = ['Drama', 'Comedy', 'Comedy,Drama', 'Horror', 'Drama,Romance', 'Thriller', 'Comedy,Drama,Romance', 'Comedy,Romance', 'Horror,Thriller', 'Drama,Thriller']\n",
    "y = []\n",
    "\n",
    "for genre in x:\n",
    "    y.append(bomimdbdf[bomimdbdf['genres']==(genre)]['domestic_gross'].mean()/1000000)\n",
    "\n",
    "fig, ax = plt.subplots( figsize = (5, 6))\n",
    "plt.xticks(rotation = 90)\n",
    "ax.set_xlabel('Top Ten Genres')\n",
    "ax.set_ylabel('Gross Earning in Mils')\n",
    "ax.set_title('Top Gross Earnings By Genre')\n",
    "ax.bar(x,y);\n",
    "\n",
    "plt.savefig('Images/DomesticGrossEarnings.png')"
   ]
  },
  {
   "cell_type": "markdown",
   "metadata": {},
   "source": [
    "#### If the best earners are not the movies that get the best rating which genres have a great enough overlap between the two categories to recomend them to Microsoft?"
   ]
  },
  {
   "cell_type": "code",
   "execution_count": 88,
   "metadata": {},
   "outputs": [
    {
     "data": {
      "image/png": "[encoded data removed]",
      "text/plain": [
       "<Figure size 432x288 with 2 Axes>"
      ]
     },
     "metadata": {
      "needs_background": "light"
     },
     "output_type": "display_data"
    }
   ],
   "source": [
    "x = ['Drama', 'Comedy', 'Comedy,Drama', 'Horror', 'Drama,Romance', 'Thriller', 'Comedy,Drama,Romance', 'Comedy,Romance', 'Horror,Thriller', 'Drama,Thriller']\n",
    "y1 = []\n",
    "for genre in x:\n",
    "    y1.append(alldata[alldata['genres']==(genre)]['domestic_gross'].mean()/1000000)\n",
    "\n",
    "y2=[]\n",
    "for genre in x:\n",
    "    y2.append(alldata[alldata['genres']==(genre)]['averagerating'].mean())\n",
    "\n",
    "fig, ax = plt.subplots(1,2)\n",
    "\n",
    "ax[0].bar(x, y1, color = 'blue')\n",
    "ax[0].set_ylabel(' Mean gross in mils')\n",
    "\n",
    "ax[1].bar(x, y2, color = 'green')\n",
    "ax[1].set_ylabel('Mean Avg Rating')\n",
    "\n",
    "\n",
    "for ax in fig.axes:\n",
    "    ax.tick_params(labelrotation=90)\n",
    "\n",
    "plt.suptitle('Domestic Gross Vs Avg Rating')    \n",
    "plt.subplots_adjust(wspace = .5)\n",
    "# plt.savefig('Images/GrossVsRating.png')"
   ]
  },
  {
   "cell_type": "markdown",
   "metadata": {},
   "source": [
    "# Conclusions"
   ]
  },
  {
   "cell_type": "markdown",
   "metadata": {},
   "source": [
    "Based on the comparison between the mean average rating and the average gross box offfice earnings by the ten types of film the best films that Microsofts new studio could make are comedies like Bill and Ted Face the Music or romantic comedies like Stranger than fiction."
   ]
  },
  {
   "cell_type": "markdown",
   "metadata": {},
   "source": [
    "# Next Steps"
   ]
  },
  {
   "cell_type": "markdown",
   "metadata": {},
   "source": [
    "Since the recomendation for the best movies ignores the movies that are not the highest earners and the best rated of the types of movie investigated, it may be in the best interest of the customer to branch out and invest in thrillers like 23 Bridges or Horror movies like IT after they get a foothold in the market."
   ]
  },
  {
   "cell_type": "code",
   "execution_count": null,
   "metadata": {},
   "outputs": [],
   "source": []
  }
 ],
 "metadata": {
  "kernelspec": {
   "display_name": "learn-env",
   "language": "python",
   "name": "learn-env"
  },
  "language_info": {
   "codemirror_mode": {
    "name": "ipython",
    "version": 3
   },
   "file_extension": ".py",
   "mimetype": "text/x-python",
   "name": "python",
   "nbconvert_exporter": "python",
   "pygments_lexer": "ipython3",
   "version": "3.6.9"
  }
 },
 "nbformat": 4,
 "nbformat_minor": 4
}
